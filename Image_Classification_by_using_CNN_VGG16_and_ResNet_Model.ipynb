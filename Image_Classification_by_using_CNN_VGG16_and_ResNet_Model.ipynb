{
  "nbformat": 4,
  "nbformat_minor": 0,
  "metadata": {
    "colab": {
      "name": "Image Classification by using CNN_VGG16_and_ResNet_Model.ipynb",
      "provenance": [],
      "collapsed_sections": []
    },
    "kernelspec": {
      "name": "python3",
      "display_name": "Python 3"
    },
    "accelerator": "GPU"
  },
  "cells": [
    {
      "cell_type": "markdown",
      "metadata": {
        "id": "rTWqJNrpCUKC"
      },
      "source": [
        "#Prepared by: Mwaimu Ramadhan Ally\n",
        "  "
      ]
    },
    {
      "cell_type": "markdown",
      "metadata": {
        "id": "VbgRFjIMBltQ"
      },
      "source": [
        "#Aim of the Project \n",
        "\n",
        "The aim of this assignment is to implement Image classification with convolutional neural network also ResNet Model and VGG16 Model \n",
        "To complity this task i have implmented VGG 16 and ResNet and our on model of CNN, and i try to commpare the differant mode and select the better one from them.\n",
        "\n",
        "This study has been undertaken with the following objective. \n",
        "\n",
        "1.   Exploratory Data Analysis.\n",
        "2.   To study about the problems in a given dataset to solve and to study and to state,what could be the source of issues during the training or inference phase, or what could be the source of ambiguity in the data.\n",
        "3.   To do data pre-processing for the given problem\n",
        "4.   To implement Hyper-parameter tuning.\n",
        "5.   To do model selection (with given the best results for each tested model).\n",
        "6.   Finale to do results section.\n",
        "\n",
        "\n",
        "\n",
        "\n",
        "\n",
        "\n",
        "\n",
        "\n",
        "\n",
        "\n"
      ]
    },
    {
      "cell_type": "code",
      "source": [
        "from tensorflow import keras\n",
        "from tensorflow.keras import layers"
      ],
      "metadata": {
        "id": "2GNydzFnj-gn"
      },
      "execution_count": null,
      "outputs": []
    },
    {
      "cell_type": "code",
      "metadata": {
        "id": "OUeC67GhZcdQ"
      },
      "source": [
        "import numpy as np\n",
        "import matplotlib.pyplot as plt\n",
        "\n",
        "import tensorflow as tf\n",
        "import tensorflow_datasets as tfds\n",
        "from tensorflow.keras.models import Model\n",
        "from tensorflow.keras.optimizers import SGD\n",
        "from tensorflow.keras.utils import to_categorical\n",
        "from tensorflow.keras.callbacks import ModelCheckpoint\n",
        "\n",
        "\n",
        "from keras.layers import Input, Dense, Conv2D, Dropout, BatchNormalization, Flatten\n",
        "from keras.layers import GlobalAveragePooling2D, MaxPooling2D, Add, Multiply, Subtract, Activation, ZeroPadding2D\n",
        "from keras.models import Sequential\n",
        "#from keras.optimizers import Adam\n",
        "from keras.callbacks import TensorBoard\n",
        "from keras.models import Model\n",
        "from keras.regularizers import l2\n"
      ],
      "execution_count": null,
      "outputs": []
    },
    {
      "cell_type": "code",
      "metadata": {
        "id": "0O3BAbMouXAu"
      },
      "source": [
        "def plot_history(history):\n",
        "  # History for accuracy\n",
        "  plt.figure(figsize=(14,5))\n",
        "  plt.subplot(1,2,1)\n",
        "  plt.plot(history.history['accuracy'])\n",
        "  plt.plot(history.history['val_accuracy'])\n",
        "  plt.title('model accuracy')\n",
        "  plt.ylabel('accuracy')\n",
        "  plt.xlabel('epoch')\n",
        "  plt.legend(['train', 'valid'], loc='lower right')\n",
        "  # History for loss\n",
        "  plt.subplot(1,2,2)\n",
        "  plt.plot(history.history['loss'])\n",
        "  plt.plot(history.history['val_loss'])\n",
        "  plt.title('model loss')\n",
        "  plt.ylabel('loss')\n",
        "  plt.xlabel('epoch')\n",
        "  plt.legend(['train', 'valid'], loc='upper right')\n",
        "  plt.show()"
      ],
      "execution_count": null,
      "outputs": []
    },
    {
      "cell_type": "code",
      "metadata": {
        "id": "BNEF9JhpIfvo"
      },
      "source": [
        "ds, ds_info = tfds.load(\"patch_camelyon\", with_info=True)"
      ],
      "execution_count": null,
      "outputs": []
    },
    {
      "cell_type": "code",
      "metadata": {
        "id": "hMan43TWEE7v",
        "colab": {
          "base_uri": "https://localhost:8080/"
        },
        "outputId": "4ae7f55d-f523-45d1-e814-252eb5d61ab2"
      },
      "source": [
        "print(ds_info)"
      ],
      "execution_count": null,
      "outputs": [
        {
          "output_type": "stream",
          "name": "stdout",
          "text": [
            "tfds.core.DatasetInfo(\n",
            "    name='patch_camelyon',\n",
            "    version=2.0.0,\n",
            "    description='The PatchCamelyon benchmark is a new and challenging image classification\n",
            "dataset. It consists of 327.680 color images (96 x 96px) extracted from\n",
            "histopathologic scans of lymph node sections. Each image is annoted with a\n",
            "binary label indicating presence of metastatic tissue. PCam provides a new\n",
            "benchmark for machine learning models: bigger than CIFAR10, smaller than\n",
            "Imagenet, trainable on a single GPU.',\n",
            "    homepage='https://patchcamelyon.grand-challenge.org/',\n",
            "    features=FeaturesDict({\n",
            "        'id': Text(shape=(), dtype=tf.string),\n",
            "        'image': Image(shape=(96, 96, 3), dtype=tf.uint8),\n",
            "        'label': ClassLabel(shape=(), dtype=tf.int64, num_classes=2),\n",
            "    }),\n",
            "    total_num_examples=327680,\n",
            "    splits={\n",
            "        'test': 32768,\n",
            "        'train': 262144,\n",
            "        'validation': 32768,\n",
            "    },\n",
            "    supervised_keys=('image', 'label'),\n",
            "    citation=\"\"\"@misc{b_s_veeling_j_linmans_j_winkens_t_cohen_2018_2546921,\n",
            "      author       = {B. S. Veeling, J. Linmans, J. Winkens, T. Cohen, M. Welling},\n",
            "      title        = {Rotation Equivariant CNNs for Digital Pathology},\n",
            "      month        = sep,\n",
            "      year         = 2018,\n",
            "      doi          = {10.1007/978-3-030-00934-2_24},\n",
            "      url          = {https://doi.org/10.1007/978-3-030-00934-2_24}\n",
            "    }\"\"\",\n",
            "    redistribution_info=,\n",
            ")\n",
            "\n"
          ]
        }
      ]
    },
    {
      "cell_type": "markdown",
      "metadata": {
        "id": "ax72Q-S0AEu_"
      },
      "source": [
        "#**Data Preprocessing**\n",
        "To keep the dataset size small Patch CAMELYON is stored as int8 patches. For network training we need float32 and we want to normalize between 0 and 1. The function below performs this task."
      ]
    },
    {
      "cell_type": "code",
      "metadata": {
        "id": "qpqCCz1-g-K-"
      },
      "source": [
        "def prepare_ds(sample):\n",
        "    image, label = sample['image'], sample['label']  \n",
        "    image = tf.image.convert_image_dtype(image, tf.float32)\n",
        "    label = tf.one_hot(label, 2, dtype=tf.float32)\n",
        "    return image, label"
      ],
      "execution_count": null,
      "outputs": []
    },
    {
      "cell_type": "code",
      "metadata": {
        "id": "ZdlWlr0MgkV6"
      },
      "source": [
        "ds_train = ds['train']\n",
        "ds_test = ds['test']\n",
        "ds_val = ds['validation']\n"
      ],
      "execution_count": null,
      "outputs": []
    },
    {
      "cell_type": "code",
      "metadata": {
        "id": "ZRi_hjC7hcdG"
      },
      "source": [
        "ds_train = ds_train.map(prepare_ds,num_parallel_calls=tf.data.AUTOTUNE)\n",
        "ds_train = ds_train.shuffle(1024)\n",
        "ds_train = ds_train.repeat()\n",
        "ds_train = ds_train.batch(64)\n",
        "ds_train = ds_train.prefetch(2)\n"
      ],
      "execution_count": null,
      "outputs": []
    },
    {
      "cell_type": "code",
      "metadata": {
        "id": "vU2quME3vhLW"
      },
      "source": [
        "ds_test = ds_test.map(prepare_ds,num_parallel_calls=tf.data.AUTOTUNE)\n",
        "ds_test = ds_test.repeat()\n",
        "ds_test = ds_test.batch(128)\n",
        "ds_test = ds_test.prefetch(2)\n"
      ],
      "execution_count": null,
      "outputs": []
    },
    {
      "cell_type": "code",
      "metadata": {
        "id": "XCAkajNEkZJY"
      },
      "source": [
        "ds_val = ds_val.map(prepare_ds,num_parallel_calls=tf.data.AUTOTUNE)\n",
        "ds_val = ds_val.repeat()\n",
        "ds_val = ds_val.batch(128)\n",
        "ds_val = ds_val.prefetch(2)\n"
      ],
      "execution_count": null,
      "outputs": []
    },
    {
      "cell_type": "markdown",
      "metadata": {
        "id": "HdZEfCDFHJbu"
      },
      "source": [
        "#**Hyperparameter Tuning**\n",
        "\n",
        "For the model, Kernel size was set to (3,3). Activation function used for the CNN model was 'relu' and also 'softmax'.\n",
        "we also use momentum = 0.9 to control how much of the gradient from the previous step to keep in the current step.\n",
        "\n",
        "\n"
      ]
    },
    {
      "cell_type": "markdown",
      "metadata": {
        "id": "RYmwXYHwA_W9"
      },
      "source": [
        "#**CNN Model**"
      ]
    },
    {
      "cell_type": "code",
      "metadata": {
        "id": "jmcwJuD4hPjW"
      },
      "source": [
        "#Input to the network \n",
        "input_img = Input(shape=(96,96,3))\n",
        "\n",
        "# three blocks of two convolutional layers and a max-pool layer.\n",
        "x = Conv2D(16, (3, 3), padding='valid', activation='relu')(input_img)\n",
        "x = Conv2D(16, (3, 3), padding='valid', activation='relu')(x)\n",
        "x = tf.keras.layers.MaxPool2D(pool_size=(2,2), strides=(2,2))(x)\n",
        "x = Conv2D(32, (3, 3), padding='valid', activation='relu')(x)\n",
        "x = Conv2D(32, (3, 3), padding='valid', activation='relu')(x)\n",
        "x = tf.keras.layers.MaxPool2D(pool_size=(2,2), strides=(2,2))(x)\n",
        "x = Conv2D(64, (3, 3), padding='valid', activation='relu')(x)\n",
        "x = Conv2D(64, (3, 3), padding='valid', activation='relu')(x)\n",
        "x = tf.keras.layers.MaxPool2D(pool_size=(2,2), strides=(2,2))(x)\n",
        "x = Flatten()(x)\n",
        "x = Dense(256, activation='relu')(x)\n",
        "x = Dropout(rate=0.2)(x)\n",
        "x = Dense(128, activation='relu')(x)\n",
        "x = Dropout(rate=0.2)(x)\n",
        "output = Dense(2, activation='softmax')(x)"
      ],
      "execution_count": null,
      "outputs": []
    },
    {
      "cell_type": "code",
      "metadata": {
        "colab": {
          "base_uri": "https://localhost:8080/"
        },
        "id": "Pj1fCSjjhT5F",
        "outputId": "0727727f-b2dd-40ea-e263-95918ad91ee2"
      },
      "source": [
        "model = Model(inputs=input_img, outputs=output)\n",
        "opt = SGD(lr=0.01, momentum=0.9, decay=0.0, nesterov=True)\n",
        "model.compile(optimizer=opt, loss='categorical_crossentropy', metrics=['accuracy'])\n",
        "model.summary()"
      ],
      "execution_count": null,
      "outputs": [
        {
          "output_type": "stream",
          "name": "stdout",
          "text": [
            "Model: \"model\"\n",
            "_________________________________________________________________\n",
            " Layer (type)                Output Shape              Param #   \n",
            "=================================================================\n",
            " input_1 (InputLayer)        [(None, 96, 96, 3)]       0         \n",
            "                                                                 \n",
            " conv2d (Conv2D)             (None, 94, 94, 16)        448       \n",
            "                                                                 \n",
            " conv2d_1 (Conv2D)           (None, 92, 92, 16)        2320      \n",
            "                                                                 \n",
            " max_pooling2d (MaxPooling2D  (None, 46, 46, 16)       0         \n",
            " )                                                               \n",
            "                                                                 \n",
            " conv2d_2 (Conv2D)           (None, 44, 44, 32)        4640      \n",
            "                                                                 \n",
            " conv2d_3 (Conv2D)           (None, 42, 42, 32)        9248      \n",
            "                                                                 \n",
            " max_pooling2d_1 (MaxPooling  (None, 21, 21, 32)       0         \n",
            " 2D)                                                             \n",
            "                                                                 \n",
            " conv2d_4 (Conv2D)           (None, 19, 19, 64)        18496     \n",
            "                                                                 \n",
            " conv2d_5 (Conv2D)           (None, 17, 17, 64)        36928     \n",
            "                                                                 \n",
            " max_pooling2d_2 (MaxPooling  (None, 8, 8, 64)         0         \n",
            " 2D)                                                             \n",
            "                                                                 \n",
            " flatten (Flatten)           (None, 4096)              0         \n",
            "                                                                 \n",
            " dense (Dense)               (None, 256)               1048832   \n",
            "                                                                 \n",
            " dropout (Dropout)           (None, 256)               0         \n",
            "                                                                 \n",
            " dense_1 (Dense)             (None, 128)               32896     \n",
            "                                                                 \n",
            " dropout_1 (Dropout)         (None, 128)               0         \n",
            "                                                                 \n",
            " dense_2 (Dense)             (None, 2)                 258       \n",
            "                                                                 \n",
            "=================================================================\n",
            "Total params: 1,154,066\n",
            "Trainable params: 1,154,066\n",
            "Non-trainable params: 0\n",
            "_________________________________________________________________\n"
          ]
        },
        {
          "output_type": "stream",
          "name": "stderr",
          "text": [
            "/usr/local/lib/python3.7/dist-packages/keras/optimizer_v2/gradient_descent.py:102: UserWarning: The `lr` argument is deprecated, use `learning_rate` instead.\n",
            "  super(SGD, self).__init__(name, **kwargs)\n"
          ]
        }
      ]
    },
    {
      "cell_type": "code",
      "metadata": {
        "id": "HYHlwZ3nEYBN",
        "colab": {
          "base_uri": "https://localhost:8080/"
        },
        "outputId": "b13caf47-e9e1-4600-e66a-a1c8dac55d1a"
      },
      "source": [
        "model.save(\"CNNModel.h5\")\n",
        "print(\"Saved model to disk\")"
      ],
      "execution_count": null,
      "outputs": [
        {
          "output_type": "stream",
          "name": "stdout",
          "text": [
            "Saved model to disk\n"
          ]
        }
      ]
    },
    {
      "cell_type": "code",
      "metadata": {
        "id": "tAvp3pssiDRA",
        "colab": {
          "base_uri": "https://localhost:8080/"
        },
        "outputId": "a2c66afa-f92e-4146-f563-ae8d871f4268"
      },
      "source": [
        "hist = model.fit(ds_train, validation_data=ds_val, epochs=10, steps_per_epoch=4096, validation_steps=256)"
      ],
      "execution_count": null,
      "outputs": [
        {
          "output_type": "stream",
          "name": "stdout",
          "text": [
            "Epoch 1/10\n",
            "4096/4096 [==============================] - 231s 51ms/step - loss: 0.4896 - accuracy: 0.7593 - val_loss: 0.4753 - val_accuracy: 0.7815\n",
            "Epoch 2/10\n",
            "4096/4096 [==============================] - 194s 47ms/step - loss: 0.3658 - accuracy: 0.8413 - val_loss: 0.3534 - val_accuracy: 0.8431\n",
            "Epoch 3/10\n",
            "3560/4096 [=========================>....] - ETA: 24s - loss: 0.2825 - accuracy: 0.8850"
          ]
        }
      ]
    },
    {
      "cell_type": "code",
      "metadata": {
        "colab": {
          "base_uri": "https://localhost:8080/",
          "height": 350
        },
        "id": "Akd4ltOiuY7G",
        "outputId": "9369f3d4-f7a0-4b36-d335-206d3dfe84b7"
      },
      "source": [
        "plot_history(hist)"
      ],
      "execution_count": null,
      "outputs": [
        {
          "output_type": "display_data",
          "data": {
            "image/png": "[encoded data removed]",
            "text/plain": [
              "<Figure size 1008x360 with 2 Axes>"
            ]
          },
          "metadata": {
            "needs_background": "light"
          }
        }
      ]
    },
    {
      "cell_type": "code",
      "metadata": {
        "colab": {
          "base_uri": "https://localhost:8080/"
        },
        "id": "jdckPTqyu6IA",
        "outputId": "d61bb947-cbfe-4691-db08-561eb33712bf"
      },
      "source": [
        "model.evaluate(ds_test, return_dict=True, verbose=2,steps=256)"
      ],
      "execution_count": null,
      "outputs": [
        {
          "output_type": "stream",
          "name": "stdout",
          "text": [
            "256/256 - 22s - loss: 0.3451 - accuracy: 0.8539 - 22s/epoch - 86ms/step\n"
          ]
        },
        {
          "output_type": "execute_result",
          "data": {
            "text/plain": [
              "{'accuracy': 0.853912353515625, 'loss': 0.34510743618011475}"
            ]
          },
          "metadata": {},
          "execution_count": 23
        }
      ]
    },
    {
      "cell_type": "markdown",
      "metadata": {
        "id": "N60HB_LRBITO"
      },
      "source": [
        "#**ResNet Model**"
      ]
    },
    {
      "cell_type": "code",
      "metadata": {
        "id": "DVbUF3rOPsIV"
      },
      "source": [
        "def indentity_block(x_input, filters, activation='relu'):\n",
        "  x = Conv2D(filters = filters, kernel_size = (1, 1), strides = (1,1), padding = 'same', kernel_regularizer=l2(1e-4))(x_input)\n",
        "  x = BatchNormalization()(x)\n",
        "  x = Activation(activation)(x)\n",
        "\n",
        "  x = Dropout(0.3)(x) \n",
        "\n",
        "  x = Conv2D(filters = filters, kernel_size = (3, 3), strides = (1,1), padding = 'same', kernel_regularizer=l2(1e-4))(x)\n",
        "  x = BatchNormalization()(x)\n",
        "\n",
        "  x = Add()([x, x_input])\n",
        "\n",
        "  x = Activation(activation)(x)\n",
        "\n",
        "  return x\n",
        "\n",
        "def downsampling_identity_block(x_input, filters, activation='relu'):\n",
        "  x = Conv2D(filters = filters, kernel_size = (1, 1), strides = (2,2), padding = 'same', kernel_regularizer=l2(1e-4))(x_input)\n",
        "  x = BatchNormalization()(x)\n",
        "  x = Activation(activation)(x)\n",
        "\n",
        "  x = Dropout(0.3)(x) \n",
        "\n",
        "  x = Conv2D(filters = filters, kernel_size = (3, 3), strides = (1,1), padding = 'same', kernel_regularizer=l2(1e-4))(x)\n",
        "  x = BatchNormalization()(x)\n",
        "\n",
        "  x_skip = Conv2D(filters = filters, kernel_size = (1, 1), strides = (2,2), padding = 'same', kernel_regularizer=l2(1e-4))(x_input)\n",
        "  x_skip = BatchNormalization()(x_skip)\n",
        "\n",
        "  x = Add()([x, x_skip])\n",
        "\n",
        "  x = Activation(activation)(x)\n",
        "\n",
        "  return x"
      ],
      "execution_count": null,
      "outputs": []
    },
    {
      "cell_type": "code",
      "metadata": {
        "id": "P89XElJQ3A0j"
      },
      "source": [
        "def ResNet(input_shape = (96, 96, 3), classes = 2, activation='relu'):   \n",
        "  # Define the input as a tensor with shape input_shape\n",
        "  x_input = Input(input_shape)\n",
        "  filters = 64\n",
        "  # Zero-Padding\n",
        "  x = ZeroPadding2D((3, 3))(x_input)\n",
        "  \n",
        "  # conv_1\n",
        " \n",
        "  x = Conv2D(filters, (7,7), strides = (2, 2))(x)\n",
        "  x = BatchNormalization()(x)\n",
        "  x = Activation('relu')(x)\n",
        "\n",
        "  x = MaxPooling2D((7,7), strides=(2,2))(x)\n",
        "\n",
        "  # conv_2_x\n",
        "  x = indentity_block(x, filters, activation)\n",
        "  x = indentity_block(x, filters, activation)\n",
        "\n",
        "  # conv_3_x\n",
        "  x = downsampling_identity_block(x, filters, activation)\n",
        "  x = indentity_block(x, filters, activation)\n",
        "\n",
        "  # conv_4_x\n",
        "  x = downsampling_identity_block(x, filters, activation)\n",
        "  x = indentity_block(x, filters, activation)\n",
        "\n",
        "  # conv_5_x\n",
        "  x = downsampling_identity_block(x, filters, activation)\n",
        "  x = indentity_block(x, filters, activation)\n",
        "\n",
        "  x = GlobalAveragePooling2D()(x)\n",
        "\n",
        "  x = Dense(filters)(x)\n",
        "  x = Dense(2)(x)\n",
        "  output = Activation('softmax')(x)\n",
        "\n",
        "  model = Model(inputs=x_input, outputs=output, name='ResNet18')\n",
        "\n",
        "  return model"
      ],
      "execution_count": null,
      "outputs": []
    },
    {
      "cell_type": "code",
      "metadata": {
        "id": "EtgrcOL43Yet"
      },
      "source": [
        "model = ResNet((96, 96, 3), classes=2)\n",
        "model.compile(optimizer=Adam(0.0001), loss='categorical_crossentropy', metrics=['accuracy'])\n",
        "model.summary()\n",
        "\n",
        "model.save(\"ResnetModel.h5\")\n",
        "print(\"Saved model to disk\")"
      ],
      "execution_count": null,
      "outputs": []
    },
    {
      "cell_type": "code",
      "metadata": {
        "colab": {
          "base_uri": "https://localhost:8080/"
        },
        "outputId": "eea22817-f1a4-4168-8534-98ec9d1b32f5",
        "id": "vFsaNJeq44WF"
      },
      "source": [
        "model = ResNet((96, 96, 3), classes=2)\n",
        "model.compile(optimizer=tf.keras.optimizers.Adam(0.0001), loss='categorical_crossentropy', metrics=['accuracy'])\n",
        "model.summary()\n",
        "\n",
        "model.save(\"ResnetModel.h5\")\n",
        "print(\"Saved model to disk\")"
      ],
      "execution_count": null,
      "outputs": [
        {
          "output_type": "stream",
          "name": "stdout",
          "text": [
            "Model: \"ResNet18\"\n",
            "__________________________________________________________________________________________________\n",
            " Layer (type)                   Output Shape         Param #     Connected to                     \n",
            "==================================================================================================\n",
            " input_7 (InputLayer)           [(None, 96, 96, 3)]  0           []                               \n",
            "                                                                                                  \n",
            " zero_padding2d_1 (ZeroPadding2  (None, 102, 102, 3)  0          ['input_7[0][0]']                \n",
            " D)                                                                                               \n",
            "                                                                                                  \n",
            " conv2d_36 (Conv2D)             (None, 48, 48, 64)   9472        ['zero_padding2d_1[0][0]']       \n",
            "                                                                                                  \n",
            " batch_normalization_20 (BatchN  (None, 48, 48, 64)  256         ['conv2d_36[0][0]']              \n",
            " ormalization)                                                                                    \n",
            "                                                                                                  \n",
            " activation_18 (Activation)     (None, 48, 48, 64)   0           ['batch_normalization_20[0][0]'] \n",
            "                                                                                                  \n",
            " max_pooling2d_5 (MaxPooling2D)  (None, 21, 21, 64)  0           ['activation_18[0][0]']          \n",
            "                                                                                                  \n",
            " conv2d_37 (Conv2D)             (None, 21, 21, 64)   4160        ['max_pooling2d_5[0][0]']        \n",
            "                                                                                                  \n",
            " batch_normalization_21 (BatchN  (None, 21, 21, 64)  256         ['conv2d_37[0][0]']              \n",
            " ormalization)                                                                                    \n",
            "                                                                                                  \n",
            " activation_19 (Activation)     (None, 21, 21, 64)   0           ['batch_normalization_21[0][0]'] \n",
            "                                                                                                  \n",
            " dropout_10 (Dropout)           (None, 21, 21, 64)   0           ['activation_19[0][0]']          \n",
            "                                                                                                  \n",
            " conv2d_38 (Conv2D)             (None, 21, 21, 64)   36928       ['dropout_10[0][0]']             \n",
            "                                                                                                  \n",
            " batch_normalization_22 (BatchN  (None, 21, 21, 64)  256         ['conv2d_38[0][0]']              \n",
            " ormalization)                                                                                    \n",
            "                                                                                                  \n",
            " add_8 (Add)                    (None, 21, 21, 64)   0           ['batch_normalization_22[0][0]', \n",
            "                                                                  'max_pooling2d_5[0][0]']        \n",
            "                                                                                                  \n",
            " activation_20 (Activation)     (None, 21, 21, 64)   0           ['add_8[0][0]']                  \n",
            "                                                                                                  \n",
            " conv2d_39 (Conv2D)             (None, 21, 21, 64)   4160        ['activation_20[0][0]']          \n",
            "                                                                                                  \n",
            " batch_normalization_23 (BatchN  (None, 21, 21, 64)  256         ['conv2d_39[0][0]']              \n",
            " ormalization)                                                                                    \n",
            "                                                                                                  \n",
            " activation_21 (Activation)     (None, 21, 21, 64)   0           ['batch_normalization_23[0][0]'] \n",
            "                                                                                                  \n",
            " dropout_11 (Dropout)           (None, 21, 21, 64)   0           ['activation_21[0][0]']          \n",
            "                                                                                                  \n",
            " conv2d_40 (Conv2D)             (None, 21, 21, 64)   36928       ['dropout_11[0][0]']             \n",
            "                                                                                                  \n",
            " batch_normalization_24 (BatchN  (None, 21, 21, 64)  256         ['conv2d_40[0][0]']              \n",
            " ormalization)                                                                                    \n",
            "                                                                                                  \n",
            " add_9 (Add)                    (None, 21, 21, 64)   0           ['batch_normalization_24[0][0]', \n",
            "                                                                  'activation_20[0][0]']          \n",
            "                                                                                                  \n",
            " activation_22 (Activation)     (None, 21, 21, 64)   0           ['add_9[0][0]']                  \n",
            "                                                                                                  \n",
            " conv2d_41 (Conv2D)             (None, 11, 11, 64)   4160        ['activation_22[0][0]']          \n",
            "                                                                                                  \n",
            " batch_normalization_25 (BatchN  (None, 11, 11, 64)  256         ['conv2d_41[0][0]']              \n",
            " ormalization)                                                                                    \n",
            "                                                                                                  \n",
            " activation_23 (Activation)     (None, 11, 11, 64)   0           ['batch_normalization_25[0][0]'] \n",
            "                                                                                                  \n",
            " dropout_12 (Dropout)           (None, 11, 11, 64)   0           ['activation_23[0][0]']          \n",
            "                                                                                                  \n",
            " conv2d_42 (Conv2D)             (None, 11, 11, 64)   36928       ['dropout_12[0][0]']             \n",
            "                                                                                                  \n",
            " conv2d_43 (Conv2D)             (None, 11, 11, 64)   4160        ['activation_22[0][0]']          \n",
            "                                                                                                  \n",
            " batch_normalization_26 (BatchN  (None, 11, 11, 64)  256         ['conv2d_42[0][0]']              \n",
            " ormalization)                                                                                    \n",
            "                                                                                                  \n",
            " batch_normalization_27 (BatchN  (None, 11, 11, 64)  256         ['conv2d_43[0][0]']              \n",
            " ormalization)                                                                                    \n",
            "                                                                                                  \n",
            " add_10 (Add)                   (None, 11, 11, 64)   0           ['batch_normalization_26[0][0]', \n",
            "                                                                  'batch_normalization_27[0][0]'] \n",
            "                                                                                                  \n",
            " activation_24 (Activation)     (None, 11, 11, 64)   0           ['add_10[0][0]']                 \n",
            "                                                                                                  \n",
            " conv2d_44 (Conv2D)             (None, 11, 11, 64)   4160        ['activation_24[0][0]']          \n",
            "                                                                                                  \n",
            " batch_normalization_28 (BatchN  (None, 11, 11, 64)  256         ['conv2d_44[0][0]']              \n",
            " ormalization)                                                                                    \n",
            "                                                                                                  \n",
            " activation_25 (Activation)     (None, 11, 11, 64)   0           ['batch_normalization_28[0][0]'] \n",
            "                                                                                                  \n",
            " dropout_13 (Dropout)           (None, 11, 11, 64)   0           ['activation_25[0][0]']          \n",
            "                                                                                                  \n",
            " conv2d_45 (Conv2D)             (None, 11, 11, 64)   36928       ['dropout_13[0][0]']             \n",
            "                                                                                                  \n",
            " batch_normalization_29 (BatchN  (None, 11, 11, 64)  256         ['conv2d_45[0][0]']              \n",
            " ormalization)                                                                                    \n",
            "                                                                                                  \n",
            " add_11 (Add)                   (None, 11, 11, 64)   0           ['batch_normalization_29[0][0]', \n",
            "                                                                  'activation_24[0][0]']          \n",
            "                                                                                                  \n",
            " activation_26 (Activation)     (None, 11, 11, 64)   0           ['add_11[0][0]']                 \n",
            "                                                                                                  \n",
            " conv2d_46 (Conv2D)             (None, 6, 6, 64)     4160        ['activation_26[0][0]']          \n",
            "                                                                                                  \n",
            " batch_normalization_30 (BatchN  (None, 6, 6, 64)    256         ['conv2d_46[0][0]']              \n",
            " ormalization)                                                                                    \n",
            "                                                                                                  \n",
            " activation_27 (Activation)     (None, 6, 6, 64)     0           ['batch_normalization_30[0][0]'] \n",
            "                                                                                                  \n",
            " dropout_14 (Dropout)           (None, 6, 6, 64)     0           ['activation_27[0][0]']          \n",
            "                                                                                                  \n",
            " conv2d_47 (Conv2D)             (None, 6, 6, 64)     36928       ['dropout_14[0][0]']             \n",
            "                                                                                                  \n",
            " conv2d_48 (Conv2D)             (None, 6, 6, 64)     4160        ['activation_26[0][0]']          \n",
            "                                                                                                  \n",
            " batch_normalization_31 (BatchN  (None, 6, 6, 64)    256         ['conv2d_47[0][0]']              \n",
            " ormalization)                                                                                    \n",
            "                                                                                                  \n",
            " batch_normalization_32 (BatchN  (None, 6, 6, 64)    256         ['conv2d_48[0][0]']              \n",
            " ormalization)                                                                                    \n",
            "                                                                                                  \n",
            " add_12 (Add)                   (None, 6, 6, 64)     0           ['batch_normalization_31[0][0]', \n",
            "                                                                  'batch_normalization_32[0][0]'] \n",
            "                                                                                                  \n",
            " activation_28 (Activation)     (None, 6, 6, 64)     0           ['add_12[0][0]']                 \n",
            "                                                                                                  \n",
            " conv2d_49 (Conv2D)             (None, 6, 6, 64)     4160        ['activation_28[0][0]']          \n",
            "                                                                                                  \n",
            " batch_normalization_33 (BatchN  (None, 6, 6, 64)    256         ['conv2d_49[0][0]']              \n",
            " ormalization)                                                                                    \n",
            "                                                                                                  \n",
            " activation_29 (Activation)     (None, 6, 6, 64)     0           ['batch_normalization_33[0][0]'] \n",
            "                                                                                                  \n",
            " dropout_15 (Dropout)           (None, 6, 6, 64)     0           ['activation_29[0][0]']          \n",
            "                                                                                                  \n",
            " conv2d_50 (Conv2D)             (None, 6, 6, 64)     36928       ['dropout_15[0][0]']             \n",
            "                                                                                                  \n",
            " batch_normalization_34 (BatchN  (None, 6, 6, 64)    256         ['conv2d_50[0][0]']              \n",
            " ormalization)                                                                                    \n",
            "                                                                                                  \n",
            " add_13 (Add)                   (None, 6, 6, 64)     0           ['batch_normalization_34[0][0]', \n",
            "                                                                  'activation_28[0][0]']          \n",
            "                                                                                                  \n",
            " activation_30 (Activation)     (None, 6, 6, 64)     0           ['add_13[0][0]']                 \n",
            "                                                                                                  \n",
            " conv2d_51 (Conv2D)             (None, 3, 3, 64)     4160        ['activation_30[0][0]']          \n",
            "                                                                                                  \n",
            " batch_normalization_35 (BatchN  (None, 3, 3, 64)    256         ['conv2d_51[0][0]']              \n",
            " ormalization)                                                                                    \n",
            "                                                                                                  \n",
            " activation_31 (Activation)     (None, 3, 3, 64)     0           ['batch_normalization_35[0][0]'] \n",
            "                                                                                                  \n",
            " dropout_16 (Dropout)           (None, 3, 3, 64)     0           ['activation_31[0][0]']          \n",
            "                                                                                                  \n",
            " conv2d_52 (Conv2D)             (None, 3, 3, 64)     36928       ['dropout_16[0][0]']             \n",
            "                                                                                                  \n",
            " conv2d_53 (Conv2D)             (None, 3, 3, 64)     4160        ['activation_30[0][0]']          \n",
            "                                                                                                  \n",
            " batch_normalization_36 (BatchN  (None, 3, 3, 64)    256         ['conv2d_52[0][0]']              \n",
            " ormalization)                                                                                    \n",
            "                                                                                                  \n",
            " batch_normalization_37 (BatchN  (None, 3, 3, 64)    256         ['conv2d_53[0][0]']              \n",
            " ormalization)                                                                                    \n",
            "                                                                                                  \n",
            " add_14 (Add)                   (None, 3, 3, 64)     0           ['batch_normalization_36[0][0]', \n",
            "                                                                  'batch_normalization_37[0][0]'] \n",
            "                                                                                                  \n",
            " activation_32 (Activation)     (None, 3, 3, 64)     0           ['add_14[0][0]']                 \n",
            "                                                                                                  \n",
            " conv2d_54 (Conv2D)             (None, 3, 3, 64)     4160        ['activation_32[0][0]']          \n",
            "                                                                                                  \n",
            " batch_normalization_38 (BatchN  (None, 3, 3, 64)    256         ['conv2d_54[0][0]']              \n",
            " ormalization)                                                                                    \n",
            "                                                                                                  \n",
            " activation_33 (Activation)     (None, 3, 3, 64)     0           ['batch_normalization_38[0][0]'] \n",
            "                                                                                                  \n",
            " dropout_17 (Dropout)           (None, 3, 3, 64)     0           ['activation_33[0][0]']          \n",
            "                                                                                                  \n",
            " conv2d_55 (Conv2D)             (None, 3, 3, 64)     36928       ['dropout_17[0][0]']             \n",
            "                                                                                                  \n",
            " batch_normalization_39 (BatchN  (None, 3, 3, 64)    256         ['conv2d_55[0][0]']              \n",
            " ormalization)                                                                                    \n",
            "                                                                                                  \n",
            " add_15 (Add)                   (None, 3, 3, 64)     0           ['batch_normalization_39[0][0]', \n",
            "                                                                  'activation_32[0][0]']          \n",
            "                                                                                                  \n",
            " activation_34 (Activation)     (None, 3, 3, 64)     0           ['add_15[0][0]']                 \n",
            "                                                                                                  \n",
            " global_average_pooling2d_1 (Gl  (None, 64)          0           ['activation_34[0][0]']          \n",
            " obalAveragePooling2D)                                                                            \n",
            "                                                                                                  \n",
            " dense_5 (Dense)                (None, 64)           4160        ['global_average_pooling2d_1[0][0\n",
            "                                                                 ]']                              \n",
            "                                                                                                  \n",
            " dense_6 (Dense)                (None, 2)            130         ['dense_5[0][0]']                \n",
            "                                                                                                  \n",
            " activation_35 (Activation)     (None, 2)            0           ['dense_6[0][0]']                \n",
            "                                                                                                  \n",
            "==================================================================================================\n",
            "Total params: 360,066\n",
            "Trainable params: 357,506\n",
            "Non-trainable params: 2,560\n",
            "__________________________________________________________________________________________________\n"
          ]
        },
        {
          "output_type": "stream",
          "name": "stderr",
          "text": [
            "/usr/local/lib/python3.7/dist-packages/keras/engine/functional.py:1410: CustomMaskWarning: Custom mask layers require a config and must override get_config. When loading, the custom mask layer must be passed to the custom_objects argument.\n",
            "  layer_config = serialize_layer_fn(layer)\n"
          ]
        },
        {
          "output_type": "stream",
          "name": "stdout",
          "text": [
            "Saved model to disk\n"
          ]
        }
      ]
    },
    {
      "cell_type": "code",
      "metadata": {
        "colab": {
          "base_uri": "https://localhost:8080/"
        },
        "id": "FJG-vPK3P7O7",
        "outputId": "cbc74439-d1ff-4224-b864-cf72b81ceeee"
      },
      "source": [
        "hist = model.fit(ds_train,\n",
        "                 validation_data=ds_val, verbose = 2,epochs=20, steps_per_epoch=100, validation_steps=256)"
      ],
      "execution_count": null,
      "outputs": [
        {
          "output_type": "stream",
          "name": "stdout",
          "text": [
            "Epoch 1/20\n",
            "100/100 - 36s - loss: 0.7494 - accuracy: 0.6675 - val_loss: 0.7862 - val_accuracy: 0.4893 - 36s/epoch - 360ms/step\n",
            "Epoch 2/20\n",
            "100/100 - 29s - loss: 0.6345 - accuracy: 0.7522 - val_loss: 0.8097 - val_accuracy: 0.4308 - 29s/epoch - 292ms/step\n",
            "Epoch 3/20\n",
            "100/100 - 29s - loss: 0.6091 - accuracy: 0.7722 - val_loss: 0.9063 - val_accuracy: 0.6553 - 29s/epoch - 292ms/step\n",
            "Epoch 4/20\n",
            "100/100 - 29s - loss: 0.5967 - accuracy: 0.7736 - val_loss: 1.6280 - val_accuracy: 0.6440 - 29s/epoch - 294ms/step\n",
            "Epoch 5/20\n",
            "100/100 - 29s - loss: 0.5969 - accuracy: 0.7770 - val_loss: 1.5245 - val_accuracy: 0.6625 - 29s/epoch - 291ms/step\n",
            "Epoch 6/20\n",
            "100/100 - 29s - loss: 0.5596 - accuracy: 0.8000 - val_loss: 0.8309 - val_accuracy: 0.7198 - 29s/epoch - 294ms/step\n",
            "Epoch 7/20\n",
            "100/100 - 30s - loss: 0.5597 - accuracy: 0.8000 - val_loss: 0.8978 - val_accuracy: 0.7029 - 30s/epoch - 296ms/step\n",
            "Epoch 8/20\n",
            "100/100 - 29s - loss: 0.5710 - accuracy: 0.7923 - val_loss: 0.9146 - val_accuracy: 0.6693 - 29s/epoch - 292ms/step\n",
            "Epoch 9/20\n",
            "100/100 - 30s - loss: 0.5571 - accuracy: 0.7977 - val_loss: 0.8400 - val_accuracy: 0.7023 - 30s/epoch - 296ms/step\n",
            "Epoch 10/20\n",
            "100/100 - 30s - loss: 0.5445 - accuracy: 0.8131 - val_loss: 0.7077 - val_accuracy: 0.7269 - 30s/epoch - 297ms/step\n",
            "Epoch 11/20\n",
            "100/100 - 30s - loss: 0.5342 - accuracy: 0.8169 - val_loss: 0.6506 - val_accuracy: 0.7635 - 30s/epoch - 296ms/step\n",
            "Epoch 12/20\n",
            "100/100 - 29s - loss: 0.5457 - accuracy: 0.8070 - val_loss: 0.5764 - val_accuracy: 0.7975 - 29s/epoch - 294ms/step\n",
            "Epoch 13/20\n",
            "100/100 - 30s - loss: 0.5342 - accuracy: 0.8130 - val_loss: 0.8411 - val_accuracy: 0.7315 - 30s/epoch - 295ms/step\n",
            "Epoch 14/20\n",
            "100/100 - 29s - loss: 0.5269 - accuracy: 0.8205 - val_loss: 0.9616 - val_accuracy: 0.6038 - 29s/epoch - 291ms/step\n",
            "Epoch 15/20\n",
            "100/100 - 30s - loss: 0.5193 - accuracy: 0.8142 - val_loss: 0.5361 - val_accuracy: 0.8044 - 30s/epoch - 295ms/step\n",
            "Epoch 16/20\n",
            "100/100 - 29s - loss: 0.5163 - accuracy: 0.8248 - val_loss: 0.5954 - val_accuracy: 0.7814 - 29s/epoch - 293ms/step\n",
            "Epoch 17/20\n",
            "100/100 - 30s - loss: 0.5082 - accuracy: 0.8291 - val_loss: 0.6121 - val_accuracy: 0.7745 - 30s/epoch - 295ms/step\n",
            "Epoch 18/20\n",
            "100/100 - 30s - loss: 0.5118 - accuracy: 0.8258 - val_loss: 0.7013 - val_accuracy: 0.7378 - 30s/epoch - 300ms/step\n",
            "Epoch 19/20\n",
            "100/100 - 30s - loss: 0.5122 - accuracy: 0.8250 - val_loss: 0.8762 - val_accuracy: 0.7086 - 30s/epoch - 299ms/step\n",
            "Epoch 20/20\n",
            "100/100 - 30s - loss: 0.4873 - accuracy: 0.8398 - val_loss: 0.5990 - val_accuracy: 0.7892 - 30s/epoch - 298ms/step\n"
          ]
        }
      ]
    },
    {
      "cell_type": "code",
      "metadata": {
        "colab": {
          "base_uri": "https://localhost:8080/",
          "height": 350
        },
        "id": "QNPhd1G7hspD",
        "outputId": "9fcf11c0-c758-4e4f-d9b3-341afd0fe871"
      },
      "source": [
        "plot_history(hist)"
      ],
      "execution_count": null,
      "outputs": [
        {
          "output_type": "display_data",
          "data": {
            "image/png": "[encoded data removed]",
            "text/plain": [
              "<Figure size 1008x360 with 2 Axes>"
            ]
          },
          "metadata": {
            "needs_background": "light"
          }
        }
      ]
    },
    {
      "cell_type": "markdown",
      "metadata": {
        "id": "r2JcO4vzBPzf"
      },
      "source": [
        "#**VGG16 Model**"
      ]
    },
    {
      "cell_type": "code",
      "metadata": {
        "colab": {
          "base_uri": "https://localhost:8080/"
        },
        "id": "GAPRE_HvdeMQ",
        "outputId": "536145fe-e25f-48b7-b4c7-2c7342270d44"
      },
      "source": [
        "# input\n",
        " \n",
        "input = Input(shape =(96,96,3))\n",
        "# 1st Conv Block\n",
        " \n",
        "x = Conv2D (filters =64, kernel_size =3, padding ='same', activation='relu')(input)\n",
        "x = Conv2D (filters =64, kernel_size =3, padding ='same', activation='relu')(x)\n",
        "x = tf.keras.layers.MaxPool2D(pool_size =2, strides =2, padding ='same')(x)\n",
        "# 2nd Conv Block\n",
        " \n",
        "x = Conv2D (filters =128, kernel_size =3, padding ='same', activation='relu')(x)\n",
        "x = Conv2D (filters =128, kernel_size =3, padding ='same', activation='relu')(x)\n",
        "x = tf.keras.layers.MaxPool2D(pool_size =2, strides =2, padding ='same')(x)\n",
        "# 3rd Conv block\n",
        " \n",
        "x = Conv2D (filters =256, kernel_size =3, padding ='same', activation='relu')(x)\n",
        "x = Conv2D (filters =256, kernel_size =3, padding ='same', activation='relu')(x)\n",
        "x = Conv2D (filters =256, kernel_size =3, padding ='same', activation='relu')(x)\n",
        "x = tf.keras.layers.MaxPool2D(pool_size =2, strides =2, padding ='same')(x)\n",
        "# 4th Conv block\n",
        " \n",
        "x = Conv2D (filters =512, kernel_size =3, padding ='same', activation='relu')(x)\n",
        "x = Conv2D (filters =512, kernel_size =3, padding ='same', activation='relu')(x)\n",
        "x = Conv2D (filters =512, kernel_size =3, padding ='same', activation='relu')(x)\n",
        "x = tf.keras.layers.MaxPool2D(pool_size =2, strides =2, padding ='same')(x)\n",
        " \n",
        "# 5th Conv block\n",
        " \n",
        "x = Conv2D (filters =512, kernel_size =3, padding ='same', activation='relu')(x)\n",
        "x = Conv2D (filters =512, kernel_size =3, padding ='same', activation='relu')(x)\n",
        "x = Conv2D (filters =512, kernel_size =3, padding ='same', activation='relu')(x)\n",
        "x = tf.keras.layers.MaxPool2D(pool_size =2, strides =2, padding ='same')(x)\n",
        "# Fully connected layers\n",
        " \n",
        "x = Flatten()(x)\n",
        "x = Dense(units = 4096, activation ='relu')(x)\n",
        "x = Dense(units = 4096, activation ='relu')(x)\n",
        "output = Dense(units = 2, activation ='softmax')(x)\n",
        "# creating the model\n",
        " \n",
        "model = Model (inputs=input, outputs =output)\n",
        "model.compile(optimizer=tf.keras.optimizers.Adam(0.0001), loss='categorical_crossentropy', metrics=['accuracy'])\n",
        "model.summary()\n",
        "\n",
        "model.save(\"VGGModel.h5\")\n",
        "print(\"Saved model to disk\")"
      ],
      "execution_count": null,
      "outputs": [
        {
          "output_type": "stream",
          "name": "stdout",
          "text": [
            "Model: \"model_2\"\n",
            "_________________________________________________________________\n",
            " Layer (type)                Output Shape              Param #   \n",
            "=================================================================\n",
            " input_10 (InputLayer)       [(None, 96, 96, 3)]       0         \n",
            "                                                                 \n",
            " conv2d_71 (Conv2D)          (None, 96, 96, 64)        1792      \n",
            "                                                                 \n",
            " conv2d_72 (Conv2D)          (None, 96, 96, 64)        36928     \n",
            "                                                                 \n",
            " max_pooling2d_11 (MaxPoolin  (None, 48, 48, 64)       0         \n",
            " g2D)                                                            \n",
            "                                                                 \n",
            " conv2d_73 (Conv2D)          (None, 48, 48, 128)       73856     \n",
            "                                                                 \n",
            " conv2d_74 (Conv2D)          (None, 48, 48, 128)       147584    \n",
            "                                                                 \n",
            " max_pooling2d_12 (MaxPoolin  (None, 24, 24, 128)      0         \n",
            " g2D)                                                            \n",
            "                                                                 \n",
            " conv2d_75 (Conv2D)          (None, 24, 24, 256)       295168    \n",
            "                                                                 \n",
            " conv2d_76 (Conv2D)          (None, 24, 24, 256)       590080    \n",
            "                                                                 \n",
            " conv2d_77 (Conv2D)          (None, 24, 24, 256)       590080    \n",
            "                                                                 \n",
            " max_pooling2d_13 (MaxPoolin  (None, 12, 12, 256)      0         \n",
            " g2D)                                                            \n",
            "                                                                 \n",
            " conv2d_78 (Conv2D)          (None, 12, 12, 512)       1180160   \n",
            "                                                                 \n",
            " conv2d_79 (Conv2D)          (None, 12, 12, 512)       2359808   \n",
            "                                                                 \n",
            " conv2d_80 (Conv2D)          (None, 12, 12, 512)       2359808   \n",
            "                                                                 \n",
            " max_pooling2d_14 (MaxPoolin  (None, 6, 6, 512)        0         \n",
            " g2D)                                                            \n",
            "                                                                 \n",
            " conv2d_81 (Conv2D)          (None, 6, 6, 512)         2359808   \n",
            "                                                                 \n",
            " conv2d_82 (Conv2D)          (None, 6, 6, 512)         2359808   \n",
            "                                                                 \n",
            " conv2d_83 (Conv2D)          (None, 6, 6, 512)         2359808   \n",
            "                                                                 \n",
            " max_pooling2d_15 (MaxPoolin  (None, 3, 3, 512)        0         \n",
            " g2D)                                                            \n",
            "                                                                 \n",
            " flatten_2 (Flatten)         (None, 4608)              0         \n",
            "                                                                 \n",
            " dense_10 (Dense)            (None, 4096)              18878464  \n",
            "                                                                 \n",
            " dense_11 (Dense)            (None, 4096)              16781312  \n",
            "                                                                 \n",
            " dense_12 (Dense)            (None, 2)                 8194      \n",
            "                                                                 \n",
            "=================================================================\n",
            "Total params: 50,382,658\n",
            "Trainable params: 50,382,658\n",
            "Non-trainable params: 0\n",
            "_________________________________________________________________\n",
            "Saved model to disk\n"
          ]
        }
      ]
    },
    {
      "cell_type": "code",
      "metadata": {
        "colab": {
          "base_uri": "https://localhost:8080/"
        },
        "id": "U2V2B26biBdL",
        "outputId": "2750b4d7-a320-4990-c332-ef9e58391691"
      },
      "source": [
        "hist = model.fit(ds_train,\n",
        "                 validation_data=ds_val, epochs=20, steps_per_epoch=100, validation_steps=256)"
      ],
      "execution_count": null,
      "outputs": [
        {
          "output_type": "stream",
          "name": "stdout",
          "text": [
            "Epoch 1/20\n",
            "100/100 [==============================] - 123s 1s/step - loss: 0.6923 - accuracy: 0.5039 - val_loss: 0.6933 - val_accuracy: 0.4995\n",
            "Epoch 2/20\n",
            "100/100 [==============================] - 103s 1s/step - loss: 0.6936 - accuracy: 0.5139 - val_loss: 0.6932 - val_accuracy: 0.4995\n",
            "Epoch 3/20\n",
            "100/100 [==============================] - 103s 1s/step - loss: 0.6937 - accuracy: 0.4914 - val_loss: 0.6931 - val_accuracy: 0.5005\n",
            "Epoch 4/20\n",
            "100/100 [==============================] - 103s 1s/step - loss: 0.6931 - accuracy: 0.4994 - val_loss: 0.6932 - val_accuracy: 0.4995\n",
            "Epoch 5/20\n",
            "100/100 [==============================] - 103s 1s/step - loss: 0.6940 - accuracy: 0.5064 - val_loss: 0.6941 - val_accuracy: 0.5005\n",
            "Epoch 6/20\n",
            "100/100 [==============================] - 103s 1s/step - loss: 0.6915 - accuracy: 0.5239 - val_loss: 0.6799 - val_accuracy: 0.6312\n",
            "Epoch 7/20\n",
            "100/100 [==============================] - 103s 1s/step - loss: 0.6038 - accuracy: 0.6659 - val_loss: 0.4731 - val_accuracy: 0.7716\n",
            "Epoch 8/20\n",
            "100/100 [==============================] - 103s 1s/step - loss: 0.5036 - accuracy: 0.7670 - val_loss: 0.4800 - val_accuracy: 0.7643\n",
            "Epoch 9/20\n",
            "100/100 [==============================] - 103s 1s/step - loss: 0.5030 - accuracy: 0.7653 - val_loss: 0.4673 - val_accuracy: 0.7659\n",
            "Epoch 10/20\n",
            "100/100 [==============================] - 103s 1s/step - loss: 0.4748 - accuracy: 0.7830 - val_loss: 0.4713 - val_accuracy: 0.7829\n",
            "Epoch 11/20\n",
            "100/100 [==============================] - 103s 1s/step - loss: 0.4665 - accuracy: 0.7850 - val_loss: 0.4686 - val_accuracy: 0.7664\n",
            "Epoch 12/20\n",
            "100/100 [==============================] - 103s 1s/step - loss: 0.4676 - accuracy: 0.7900 - val_loss: 0.4646 - val_accuracy: 0.7781\n",
            "Epoch 13/20\n",
            "100/100 [==============================] - 103s 1s/step - loss: 0.4573 - accuracy: 0.7908 - val_loss: 0.5035 - val_accuracy: 0.7422\n",
            "Epoch 14/20\n",
            "100/100 [==============================] - 103s 1s/step - loss: 0.4537 - accuracy: 0.7906 - val_loss: 0.4709 - val_accuracy: 0.7705\n",
            "Epoch 15/20\n",
            "100/100 [==============================] - 103s 1s/step - loss: 0.4545 - accuracy: 0.7991 - val_loss: 0.4596 - val_accuracy: 0.7769\n",
            "Epoch 16/20\n",
            "100/100 [==============================] - 103s 1s/step - loss: 0.4634 - accuracy: 0.7883 - val_loss: 0.4728 - val_accuracy: 0.7746\n",
            "Epoch 17/20\n",
            "100/100 [==============================] - 103s 1s/step - loss: 0.4417 - accuracy: 0.7983 - val_loss: 0.4673 - val_accuracy: 0.7781\n",
            "Epoch 18/20\n",
            "100/100 [==============================] - 103s 1s/step - loss: 0.4362 - accuracy: 0.8020 - val_loss: 0.4298 - val_accuracy: 0.7930\n",
            "Epoch 19/20\n",
            "100/100 [==============================] - 103s 1s/step - loss: 0.4373 - accuracy: 0.8020 - val_loss: 0.4507 - val_accuracy: 0.7905\n",
            "Epoch 20/20\n",
            "100/100 [==============================] - 103s 1s/step - loss: 0.4211 - accuracy: 0.8083 - val_loss: 0.4970 - val_accuracy: 0.7708\n"
          ]
        }
      ]
    },
    {
      "cell_type": "code",
      "metadata": {
        "colab": {
          "base_uri": "https://localhost:8080/",
          "height": 350
        },
        "id": "-jkYt0RglW20",
        "outputId": "3ac8f6cd-c32d-42a6-8a9e-7efb598c8274"
      },
      "source": [
        "plot_history(hist)"
      ],
      "execution_count": null,
      "outputs": [
        {
          "output_type": "display_data",
          "data": {
            "image/png": "[encoded data removed]",
            "text/plain": [
              "<Figure size 1008x360 with 2 Axes>"
            ]
          },
          "metadata": {
            "needs_background": "light"
          }
        }
      ]
    },
    {
      "cell_type": "markdown",
      "metadata": {
        "id": "bNdVYqBLIpO9"
      },
      "source": [
        "#**Conclusion**\n",
        "\n",
        "Overall, i tried three different models and as the results suggest, the first model (Basic CNN) had the highest accuracy and would be an optimal choice for the Camelyon Classification Problem.\n",
        "\n",
        "The major problem faced was the size of the dataset, and downloading it and processing was really time consuming, which is why for shuffling a smaller value of '1024' is used. \n",
        "\n"
      ]
    }
  ]
}